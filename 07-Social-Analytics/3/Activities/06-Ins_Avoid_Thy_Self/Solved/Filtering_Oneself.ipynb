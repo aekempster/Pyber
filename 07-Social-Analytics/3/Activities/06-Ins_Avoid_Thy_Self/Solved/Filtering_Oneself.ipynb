{
 "cells": [
  {
   "cell_type": "code",
   "execution_count": 1,
   "metadata": {},
   "outputs": [],
   "source": [
    "# Dependencies\n",
    "import tweepy\n",
    "import time\n",
    "import json\n",
    "from config import (consumer_key, \n",
    "                    consumer_secret, \n",
    "                    access_token, \n",
    "                    access_token_secret)"
   ]
  },
  {
   "cell_type": "code",
   "execution_count": 2,
   "metadata": {},
   "outputs": [],
   "source": [
    "# Target Term\n",
    "target_term = \"#designer\""
   ]
  },
  {
   "cell_type": "code",
   "execution_count": 3,
   "metadata": {},
   "outputs": [],
   "source": [
    "# Twitter Credentials\n",
    "auth = tweepy.OAuthHandler(consumer_key, consumer_secret)\n",
    "auth.set_access_token(access_token, access_token_secret)\n",
    "api = tweepy.API(auth, parser=tweepy.parsers.JSONParser())"
   ]
  },
  {
   "cell_type": "code",
   "execution_count": 4,
   "metadata": {},
   "outputs": [],
   "source": [
    "# Search for tweets\n",
    "public_tweets = api.search(target_term, count=5, result_type=\"recent\")"
   ]
  },
  {
   "cell_type": "code",
   "execution_count": 5,
   "metadata": {},
   "outputs": [
    {
     "name": "stdout",
     "output_type": "stream",
     "text": [
      "https://t.co/9D1WVRqAFs\n",
      "In this video I'll show you how to create simple origami bird vector  illustration in Adobe… https://t.co/1WXSrjk4Pk\n",
      "SonicDesign1\n",
      "STEP INTO THE BEST FASHION SAREES,  HURRY UP @Shopper_mb\n",
      "\n",
      "Pink Organic Linen Saree With Silver Zari @roopkathaweb… https://t.co/f4rK5vtqd3\n",
      "Shopper_mb\n",
      "RT @ShanexSlaughter: S O O N\n",
      ".\n",
      ".\n",
      ".\n",
      "#new #newmusic #music #musician #rap #soundcloud #soundcloudrap #hiphop #witchhouse #metal #hardcore #el…\n",
      "kennisosa\n",
      "#streetstyle #fashionista #obsessed #designer https://t.co/gXriFfSyod\n",
      "syliayi\n",
      "RT @Juleseyes1: Jules Eyes is what you need if you want style, sexy and fabulous. Jules Eyes Fashion “where fashion lives” #juleseyesfashio…\n",
      "HusstleS\n"
     ]
    }
   ],
   "source": [
    "# Loop through all public_tweets\n",
    "for tweet in public_tweets[\"statuses\"]:\n",
    "\n",
    "    # Get ID and Author of most recent tweet directed at target\n",
    "    tweet_id = tweet[\"id\"]\n",
    "    tweet_author = tweet[\"user\"][\"screen_name\"]\n",
    "    tweet_text = tweet[\"text\"]\n",
    "\n",
    "    # Print Tweet Text and Tweet Author\n",
    "    print(tweet_text)\n",
    "    print(tweet_author)\n"
   ]
  },
  {
   "cell_type": "code",
   "execution_count": null,
   "metadata": {},
   "outputs": [],
   "source": []
  }
 ],
 "metadata": {
  "kernelspec": {
   "display_name": "Python [conda env:PythonData]",
   "language": "python",
   "name": "conda-env-PythonData-py"
  },
  "language_info": {
   "codemirror_mode": {
    "name": "ipython",
    "version": 3
   },
   "file_extension": ".py",
   "mimetype": "text/x-python",
   "name": "python",
   "nbconvert_exporter": "python",
   "pygments_lexer": "ipython3",
   "version": "3.6.5"
  }
 },
 "nbformat": 4,
 "nbformat_minor": 2
}
