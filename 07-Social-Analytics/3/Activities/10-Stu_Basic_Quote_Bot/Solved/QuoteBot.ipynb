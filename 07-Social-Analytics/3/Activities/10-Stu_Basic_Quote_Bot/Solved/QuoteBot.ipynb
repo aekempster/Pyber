{
 "cells": [
  {
   "cell_type": "code",
   "execution_count": null,
   "metadata": {},
   "outputs": [],
   "source": [
    "# Dependencies\n",
    "import tweepy\n",
    "import time\n",
    "import os"
   ]
  },
  {
   "cell_type": "code",
   "execution_count": null,
   "metadata": {},
   "outputs": [],
   "source": [
    "# Twitter API Keys\n",
    "try:\n",
    "    from config import (consumer_key, \n",
    "                        consumer_secret,\n",
    "                        access_token,\n",
    "                        access_token_secret)\n",
    "except:\n",
    "    consumer_key = os.environ['CONSUMER_KEY']\n",
    "    consumer_secret = os.environ['CONSUMER_SECRET']\n",
    "    access_token = os.environ['ACCESS_TOKEN']\n",
    "    access_token_secret = os.environ['ACCESS_TOKEN_SECRET']"
   ]
  },
  {
   "cell_type": "code",
   "execution_count": null,
   "metadata": {},
   "outputs": [],
   "source": [
    "# Twitter credentials\n",
    "auth = tweepy.OAuthHandler(consumer_key, consumer_secret)\n",
    "auth.set_access_token(access_token, access_token_secret)\n",
    "api = tweepy.API(auth, parser=tweepy.parsers.JSONParser())"
   ]
  },
  {
   "cell_type": "code",
   "execution_count": null,
   "metadata": {},
   "outputs": [],
   "source": [
    "# Quotes to Tweet\n",
    "quote_list = [\n",
    "    \"When you come to a fork in the road, take it.\",\n",
    "    \"You can observe a lot by just watching.\",\n",
    "    \"It’s like déjà vu all over again.\"]"
   ]
  },
  {
   "cell_type": "code",
   "execution_count": null,
   "metadata": {},
   "outputs": [],
   "source": [
    "# Create function for tweeting\n",
    "def QuoteItUp(quote_num):\n",
    "\n",
    "    # Tweet the next quote\n",
    "    api.update_status(quote_list[quote_num])\n",
    "\n",
    "    # Print success message\n",
    "    print(\"Tweeted successfully!\")"
   ]
  },
  {
   "cell_type": "code",
   "execution_count": null,
   "metadata": {},
   "outputs": [],
   "source": [
    "# Set timer to run every minute\n",
    "counter = 0\n",
    "\n",
    "while(counter < len(quote_list)):\n",
    "    QuoteItUp(counter)\n",
    "    time.sleep(60)\n",
    "    counter += 1"
   ]
  },
  {
   "cell_type": "code",
   "execution_count": null,
   "metadata": {},
   "outputs": [],
   "source": []
  }
 ],
 "metadata": {
  "kernelspec": {
   "display_name": "Python [conda env:PythonData]",
   "language": "python",
   "name": "conda-env-PythonData-py"
  },
  "language_info": {
   "codemirror_mode": {
    "name": "ipython",
    "version": 3
   },
   "file_extension": ".py",
   "mimetype": "text/x-python",
   "name": "python",
   "nbconvert_exporter": "python",
   "pygments_lexer": "ipython3",
   "version": "3.6.5"
  },
  "nteract": {
   "version": "0.8.4"
  }
 },
 "nbformat": 4,
 "nbformat_minor": 2
}
